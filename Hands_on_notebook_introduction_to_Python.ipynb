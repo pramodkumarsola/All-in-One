{
  "cells": [
    {
      "cell_type": "markdown",
      "metadata": {
        "id": "view-in-github",
        "colab_type": "text"
      },
      "source": [
        "<a href=\"https://colab.research.google.com/github/pramodkumarsola/All-in-One/blob/master/Hands_on_notebook_introduction_to_Python.ipynb\" target=\"_parent\"><img src=\"https://colab.research.google.com/assets/colab-badge.svg\" alt=\"Open In Colab\"/></a>"
      ]
    },
    {
      "cell_type": "markdown",
      "metadata": {
        "id": "ftCxC4m1WwN4"
      },
      "source": [
        "<a id=\"variables\"> </a>\n",
        "## Python Variables"
      ]
    },
    {
      "cell_type": "markdown",
      "metadata": {
        "id": "loqrEgAPWwN6"
      },
      "source": [
        "#### Declaring and assigning a value to a variable\n",
        "We use the assignment operator  '='  to assign a value to a variable."
      ]
    },
    {
      "cell_type": "code",
      "execution_count": null,
      "metadata": {
        "id": "EEiXyGNbWwN7"
      },
      "outputs": [],
      "source": [
        "num = 30"
      ]
    },
    {
      "cell_type": "markdown",
      "metadata": {
        "id": "Rge6hHBdWwN9"
      },
      "source": [
        "The operand to the left of the = operator is the name of the variable and the operand to the right of the = operator is the value stored in the variable. Here, we have created a variabe named 'num' and we have assigned value 30 to 'num' variable."
      ]
    },
    {
      "cell_type": "markdown",
      "metadata": {
        "id": "PKGTWcsRWwN-"
      },
      "source": [
        "#### Multiple assignments\n",
        "Python allows you to assign a single value to several variables simultaneously. For example −"
      ]
    },
    {
      "cell_type": "code",
      "execution_count": null,
      "metadata": {
        "id": "PRlyM9DOWwN_"
      },
      "outputs": [],
      "source": [
        "#Here, an integer object is created with the value 5, and all three variables are assigned to the same memory location\n",
        "x = y = z = 5"
      ]
    },
    {
      "cell_type": "markdown",
      "metadata": {
        "id": "65HAH67RWwOB"
      },
      "source": [
        "You can also assign multiple objects to multiple variables"
      ]
    },
    {
      "cell_type": "code",
      "execution_count": 1,
      "metadata": {
        "id": "rOUYRr38WwOB"
      },
      "outputs": [],
      "source": [
        "a,b,c = 5,10.1,\"Great Lakes\""
      ]
    },
    {
      "cell_type": "markdown",
      "metadata": {
        "id": "XcpVNMYeF9Qp"
      },
      "source": [
        "#### Re-assigning a variable"
      ]
    },
    {
      "cell_type": "code",
      "execution_count": 2,
      "metadata": {
        "id": "i9okOotLF9Qq",
        "colab": {
          "base_uri": "https://localhost:8080/"
        },
        "outputId": "45e39c66-ef7a-4659-fb5b-6df4281b2688"
      },
      "outputs": [
        {
          "output_type": "execute_result",
          "data": {
            "text/plain": [
              "25"
            ]
          },
          "metadata": {},
          "execution_count": 2
        }
      ],
      "source": [
        "var1 = 25\n",
        "var2 = \"Arthur\"\n",
        "var2 = var1\n",
        "var2"
      ]
    },
    {
      "cell_type": "markdown",
      "metadata": {
        "id": "-itifEJ3WwOD"
      },
      "source": [
        "### Rules and Naming Conventions\n"
      ]
    },
    {
      "cell_type": "markdown",
      "metadata": {
        "id": "5vs6q06hWwOE"
      },
      "source": [
        "\n"
      ]
    },
    {
      "cell_type": "markdown",
      "metadata": {
        "id": "ilx9djl-WwOE"
      },
      "source": [
        "\n",
        "## Data Types\n",
        "\n",
        "A data type is an attribute of data which tells the compiler or interpreter how the programmer intends to use the data. Python supports the following Python data types:\n",
        "                        1. Numbers\n",
        "                        2. Strings\n",
        "                        3. Boolean\n",
        "                        4. Lists\n",
        "                        5. Tuples\n",
        "                        6. Dictionaries\n",
        "                        7. Sets\n",
        "      \n",
        "\n"
      ]
    },
    {
      "cell_type": "markdown",
      "metadata": {
        "id": "IZJAzajfWwOF"
      },
      "source": [
        "<a id=\"num\"> </a>\n",
        "### Python Numbers\n",
        "There are four numeric Python data type:<br>\n",
        "a. int (signed integers)<br>\n",
        "b. float (floating point real values)<br>\n",
        "c. long (long integers, they can also be represented in octal and hexadecimal)<br>\n",
        "d. complex (complex numbers)\n",
        "\n",
        "<table>\n",
        "  <tr>\n",
        "  <th>int</th>\n",
        "  <th>float</th>\n",
        "  <th>long</th>\n",
        "  <th>complex</th>\n",
        "  </tr>\n",
        "  <tr>\n",
        "  <td>10</td>\n",
        "  <td>54.4</td>\n",
        "  <td>012345L</td>\n",
        "  <td>2+5j</td>  \n",
        "  </tr>\n",
        "  <tr>\n",
        "  <td>70</td>\n",
        "  <td>0.01</td>\n",
        "  <td>-987652L</td>\n",
        "  <td>1.18j</td>\n",
        "  </tr>\n",
        "  <tr>\n",
        "  <td>-150</td>\n",
        "  <td>1.626e16</td>\n",
        "  <td>10000000000000000</td>\n",
        "  <td>-10j</td>\n",
        "  </tr>\n",
        "  <tr>\n",
        "  <td>0x69</td>\n",
        "  <td>74.15</td>\n",
        "  <td>-4335685298777L</td>\n",
        "  <td>45j</td>\n",
        "  </tr>\n",
        "  <tr>\n",
        "  <td>-0x260</td>\n",
        "  <td>89.33</td>\n",
        "  <td>0348L\t</td>\n",
        "  <td>3e+26J</td>\n",
        "  </tr>\n",
        "</table>"
      ]
    },
    {
      "cell_type": "markdown",
      "metadata": {
        "id": "U6hFAQM8WwOF"
      },
      "source": [
        "#### int\n",
        "'int' stands for integer. This Python Data Type holds signed integers. We can use the type() function to find which class it belongs to."
      ]
    },
    {
      "cell_type": "code",
      "execution_count": 3,
      "metadata": {
        "id": "gD08tb_oWwOG",
        "colab": {
          "base_uri": "https://localhost:8080/"
        },
        "outputId": "e550bfa5-1c47-4ca2-e3c0-52438a330743"
      },
      "outputs": [
        {
          "output_type": "execute_result",
          "data": {
            "text/plain": [
              "int"
            ]
          },
          "metadata": {},
          "execution_count": 3
        }
      ],
      "source": [
        "a = -5\n",
        "type(a)"
      ]
    },
    {
      "cell_type": "code",
      "execution_count": 8,
      "metadata": {
        "id": "9TEUZuKzWwOJ",
        "colab": {
          "base_uri": "https://localhost:8080/"
        },
        "outputId": "7ce1cc55-80df-4009-801f-36b2186245e7"
      },
      "outputs": [
        {
          "output_type": "execute_result",
          "data": {
            "text/plain": [
              "int"
            ]
          },
          "metadata": {},
          "execution_count": 8
        }
      ],
      "source": [
        "x = 1000\n",
        "type(x)"
      ]
    },
    {
      "cell_type": "markdown",
      "metadata": {
        "id": "kcwZsEBnWwOL"
      },
      "source": [
        "#### float"
      ]
    },
    {
      "cell_type": "code",
      "execution_count": 5,
      "metadata": {
        "id": "gzRxX7LwWwOL",
        "colab": {
          "base_uri": "https://localhost:8080/"
        },
        "outputId": "8e2abcb2-6525-4d17-a8d9-0fb34e361647"
      },
      "outputs": [
        {
          "output_type": "execute_result",
          "data": {
            "text/plain": [
              "float"
            ]
          },
          "metadata": {},
          "execution_count": 5
        }
      ],
      "source": [
        "a = 1.1\n",
        "type(a)"
      ]
    },
    {
      "cell_type": "code",
      "execution_count": 6,
      "metadata": {
        "id": "kxQhtfexWwON",
        "colab": {
          "base_uri": "https://localhost:8080/"
        },
        "outputId": "7ecef8db-3088-4e57-8fac-0e98b5317034"
      },
      "outputs": [
        {
          "output_type": "execute_result",
          "data": {
            "text/plain": [
              "float"
            ]
          },
          "metadata": {},
          "execution_count": 6
        }
      ],
      "source": [
        "x = -3.14\n",
        "type(x)"
      ]
    },
    {
      "cell_type": "code",
      "execution_count": 7,
      "metadata": {
        "id": "yvZHGCMZWwOP",
        "colab": {
          "base_uri": "https://localhost:8080/"
        },
        "outputId": "dfc11a3c-2d81-4842-c623-243d77c38223"
      },
      "outputs": [
        {
          "output_type": "execute_result",
          "data": {
            "text/plain": [
              "float"
            ]
          },
          "metadata": {},
          "execution_count": 7
        }
      ],
      "source": [
        "y = 1.626e16\n",
        "type(y)"
      ]
    },
    {
      "cell_type": "markdown",
      "metadata": {
        "id": "FSSMkUsYWwOQ"
      },
      "source": [
        "#### long"
      ]
    },
    {
      "cell_type": "code",
      "execution_count": 9,
      "metadata": {
        "id": "D4mAkQ29WwOR",
        "colab": {
          "base_uri": "https://localhost:8080/"
        },
        "outputId": "c2c77ade-630a-4e48-e7b0-50b391316a81"
      },
      "outputs": [
        {
          "output_type": "execute_result",
          "data": {
            "text/plain": [
              "int"
            ]
          },
          "metadata": {},
          "execution_count": 9
        }
      ],
      "source": [
        "x =999999999999999999999999999999999999999999999\n",
        "type(x)"
      ]
    },
    {
      "cell_type": "markdown",
      "metadata": {
        "id": "KUu1KWCuWwOT"
      },
      "source": [
        "This construct does not exist in Python 3.x."
      ]
    },
    {
      "cell_type": "markdown",
      "metadata": {
        "id": "apmbFzZHWwOT"
      },
      "source": [
        "#### complex"
      ]
    },
    {
      "cell_type": "code",
      "execution_count": 10,
      "metadata": {
        "id": "gp5-Bm5MWwOU",
        "colab": {
          "base_uri": "https://localhost:8080/"
        },
        "outputId": "a0cb2566-8cf8-4f32-9046-f1bad82dd051"
      },
      "outputs": [
        {
          "output_type": "execute_result",
          "data": {
            "text/plain": [
              "complex"
            ]
          },
          "metadata": {},
          "execution_count": 10
        }
      ],
      "source": [
        "x = 3+4j\n",
        "type(x)"
      ]
    },
    {
      "cell_type": "code",
      "execution_count": 11,
      "metadata": {
        "id": "tgyMwLLCWwOW",
        "colab": {
          "base_uri": "https://localhost:8080/"
        },
        "outputId": "5524672c-9836-43e1-a286-c60567c85512"
      },
      "outputs": [
        {
          "output_type": "execute_result",
          "data": {
            "text/plain": [
              "complex"
            ]
          },
          "metadata": {},
          "execution_count": 11
        }
      ],
      "source": [
        "y = 3e+4j\n",
        "type(y)"
      ]
    },
    {
      "cell_type": "markdown",
      "metadata": {
        "id": "T41pYrW8WwOX"
      },
      "source": [
        "<a id=\"str\"> </a>\n",
        "### Python Strings"
      ]
    },
    {
      "cell_type": "markdown",
      "metadata": {
        "id": "RSA1gdoeWwOY"
      },
      "source": [
        "A string is a sequence of characters. Python does not have a <em>char</em> data type, unlike C++ or Java. You can delimit a string using single quotes('string') or double-quotes(\"string\")."
      ]
    },
    {
      "cell_type": "code",
      "execution_count": 12,
      "metadata": {
        "id": "XrVRb1yqWwOY",
        "colab": {
          "base_uri": "https://localhost:8080/",
          "height": 35
        },
        "outputId": "f0c74a86-446c-4267-dfd0-687b29d101e3"
      },
      "outputs": [
        {
          "output_type": "execute_result",
          "data": {
            "text/plain": [
              "'Introduction to Python'"
            ],
            "application/vnd.google.colaboratory.intrinsic+json": {
              "type": "string"
            }
          },
          "metadata": {},
          "execution_count": 12
        }
      ],
      "source": [
        "string = \"Introduction to Python\"\n",
        "string"
      ]
    },
    {
      "cell_type": "markdown",
      "metadata": {
        "id": "xX5bTc8aWwOa"
      },
      "source": [
        "The plus (+) sign is the string concatenation operator and the asterisk (*) is the repetition operator."
      ]
    },
    {
      "cell_type": "code",
      "execution_count": 14,
      "metadata": {
        "id": "I7T09aV_WwOb",
        "colab": {
          "base_uri": "https://localhost:8080/",
          "height": 35
        },
        "outputId": "bd2135ff-374c-4796-d26b-2f10ae639edb"
      },
      "outputs": [
        {
          "output_type": "execute_result",
          "data": {
            "text/plain": [
              "'GreatLearning'"
            ],
            "application/vnd.google.colaboratory.intrinsic+json": {
              "type": "string"
            }
          },
          "metadata": {},
          "execution_count": 14
        }
      ],
      "source": [
        "str1 = \"Great\"\n",
        "str2 = \"Learning\"\n",
        "str3 = str1+str2\n",
        "str3                      # Prints concatenated string"
      ]
    },
    {
      "cell_type": "code",
      "execution_count": 15,
      "metadata": {
        "id": "YgJ_RdB_WwOd",
        "colab": {
          "base_uri": "https://localhost:8080/",
          "height": 35
        },
        "outputId": "269505b7-8fc9-4557-9165-90825d6afa78"
      },
      "outputs": [
        {
          "output_type": "execute_result",
          "data": {
            "text/plain": [
              "'GreatLearningGreatLearningGreatLearning'"
            ],
            "application/vnd.google.colaboratory.intrinsic+json": {
              "type": "string"
            }
          },
          "metadata": {},
          "execution_count": 15
        }
      ],
      "source": [
        "str3*3                    # Prints string three times"
      ]
    },
    {
      "cell_type": "markdown",
      "metadata": {
        "id": "EffJINZpWwOf"
      },
      "source": [
        "You cannot use the minus(-) operator and the division(/) operator on strings."
      ]
    },
    {
      "cell_type": "markdown",
      "metadata": {
        "id": "D3D5pz2TWwOf"
      },
      "source": [
        "Subsets of strings can be taken using the slice operator ([ ]). You can display a character from a string using its index in the string. Remember, indexing starts with 0."
      ]
    },
    {
      "cell_type": "code",
      "execution_count": 16,
      "metadata": {
        "id": "FcOZ-f9SWwOh",
        "colab": {
          "base_uri": "https://localhost:8080/",
          "height": 35
        },
        "outputId": "31525b09-cd55-4f52-f2ff-94d9c1f85f8d"
      },
      "outputs": [
        {
          "output_type": "execute_result",
          "data": {
            "text/plain": [
              "'d'"
            ],
            "application/vnd.google.colaboratory.intrinsic+json": {
              "type": "string"
            }
          },
          "metadata": {},
          "execution_count": 16
        }
      ],
      "source": [
        "string[5]                 # Prints sixth character of the string"
      ]
    },
    {
      "cell_type": "markdown",
      "metadata": {
        "id": "rmacECWIWwOj"
      },
      "source": [
        "You can also display a burst of characters in a string using the slicing operator with indexes starting at 0 in the beginning of the string and working their way from -1 at the end."
      ]
    },
    {
      "cell_type": "code",
      "execution_count": 19,
      "metadata": {
        "id": "JDHvadR_WwOj",
        "colab": {
          "base_uri": "https://localhost:8080/",
          "height": 35
        },
        "outputId": "74409afb-0d5a-423f-fb33-2e3c6bd42b7c"
      },
      "outputs": [
        {
          "output_type": "execute_result",
          "data": {
            "text/plain": [
              "'to Python'"
            ],
            "application/vnd.google.colaboratory.intrinsic+json": {
              "type": "string"
            }
          },
          "metadata": {},
          "execution_count": 19
        }
      ],
      "source": [
        "string[13:22]             # Prints characters starting from 14th to 21st character"
      ]
    },
    {
      "cell_type": "markdown",
      "metadata": {
        "id": "lqGsgw_6WwOl"
      },
      "source": [
        "Strings are <em>immutable</em>. The following line of code will generate an error"
      ]
    },
    {
      "cell_type": "code",
      "execution_count": 20,
      "metadata": {
        "id": "SGqCKsZBWwOl",
        "colab": {
          "base_uri": "https://localhost:8080/",
          "height": 141
        },
        "outputId": "fbb62e8c-4bbe-44e8-fec3-5860bdd476db"
      },
      "outputs": [
        {
          "output_type": "error",
          "ename": "TypeError",
          "evalue": "'str' object does not support item assignment",
          "traceback": [
            "\u001b[0;31m---------------------------------------------------------------------------\u001b[0m",
            "\u001b[0;31mTypeError\u001b[0m                                 Traceback (most recent call last)",
            "\u001b[0;32m<ipython-input-20-a6ffdb5d46d2>\u001b[0m in \u001b[0;36m<cell line: 0>\u001b[0;34m()\u001b[0m\n\u001b[0;32m----> 1\u001b[0;31m \u001b[0mstring\u001b[0m\u001b[0;34m[\u001b[0m\u001b[0;36m0\u001b[0m\u001b[0;34m]\u001b[0m \u001b[0;34m=\u001b[0m \u001b[0;34m'P'\u001b[0m\u001b[0;34m\u001b[0m\u001b[0;34m\u001b[0m\u001b[0m\n\u001b[0m",
            "\u001b[0;31mTypeError\u001b[0m: 'str' object does not support item assignment"
          ]
        }
      ],
      "source": [
        "string[0] = 'P'"
      ]
    },
    {
      "cell_type": "markdown",
      "metadata": {
        "id": "pfuknDsgF9Rn"
      },
      "source": [
        "<a id=\"bool\"> </a>\n",
        "### Python Boolean\n",
        "In Python programming language, the Boolean datatype is a primitive datatype having one of two values: **True** or **False**. It is often a result of some conditions"
      ]
    },
    {
      "cell_type": "code",
      "execution_count": 21,
      "metadata": {
        "id": "MZWZ-vhsF9Ro",
        "colab": {
          "base_uri": "https://localhost:8080/"
        },
        "outputId": "c9049f6e-a2f1-44dc-f8bc-f1b0b66cde7e"
      },
      "outputs": [
        {
          "output_type": "execute_result",
          "data": {
            "text/plain": [
              "bool"
            ]
          },
          "metadata": {},
          "execution_count": 21
        }
      ],
      "source": [
        "var = True\n",
        "type(var)"
      ]
    },
    {
      "cell_type": "code",
      "execution_count": 22,
      "metadata": {
        "id": "-tO6lz15F9Rs",
        "colab": {
          "base_uri": "https://localhost:8080/"
        },
        "outputId": "48b697d5-8645-4a60-ecd8-77508e42da82"
      },
      "outputs": [
        {
          "output_type": "stream",
          "name": "stdout",
          "text": [
            "True\n"
          ]
        }
      ],
      "source": [
        "print(10 > 9)"
      ]
    },
    {
      "cell_type": "code",
      "execution_count": 23,
      "metadata": {
        "id": "uY2vZtqyF9Ru",
        "colab": {
          "base_uri": "https://localhost:8080/"
        },
        "outputId": "e99003c6-fd30-4c3b-c3fb-754873a8742c"
      },
      "outputs": [
        {
          "output_type": "stream",
          "name": "stdout",
          "text": [
            "False\n"
          ]
        }
      ],
      "source": [
        "print(10 == 9)"
      ]
    },
    {
      "cell_type": "code",
      "execution_count": 24,
      "metadata": {
        "id": "jGgdNUGJF9Rw",
        "colab": {
          "base_uri": "https://localhost:8080/"
        },
        "outputId": "581e081b-a29f-4703-dd61-c8fbb4da0c79"
      },
      "outputs": [
        {
          "output_type": "stream",
          "name": "stdout",
          "text": [
            "False\n"
          ]
        }
      ],
      "source": [
        "print(10 < 9)"
      ]
    },
    {
      "cell_type": "markdown",
      "metadata": {
        "id": "EVRWwplyWwPK"
      },
      "source": [
        "<a id=\"typecon\"> </a>\n",
        "## Type Conversion\n",
        "Since Python is dynamically-typed, you may want to convert a value into another type. Python supports different type conversion functions like int(), float(), str() etc."
      ]
    },
    {
      "cell_type": "markdown",
      "metadata": {
        "id": "boCcUiw1WwPK"
      },
      "source": [
        "#### float()\n",
        "It converts the passed value into a float."
      ]
    },
    {
      "cell_type": "code",
      "execution_count": 25,
      "metadata": {
        "id": "rs0NOMBhWwPK",
        "colab": {
          "base_uri": "https://localhost:8080/"
        },
        "outputId": "895ac0c3-a8a9-4af8-823d-76edf799448b"
      },
      "outputs": [
        {
          "output_type": "execute_result",
          "data": {
            "text/plain": [
              "11.0"
            ]
          },
          "metadata": {},
          "execution_count": 25
        }
      ],
      "source": [
        "float(11)"
      ]
    },
    {
      "cell_type": "markdown",
      "metadata": {
        "id": "hz5JQDNDWwPM"
      },
      "source": [
        "You can turn a Boolean into an float."
      ]
    },
    {
      "cell_type": "code",
      "execution_count": 26,
      "metadata": {
        "id": "f7ha7y1HWwPM",
        "colab": {
          "base_uri": "https://localhost:8080/"
        },
        "outputId": "68f3ead5-f5e4-4324-f284-28fc98d4cbae"
      },
      "outputs": [
        {
          "output_type": "execute_result",
          "data": {
            "text/plain": [
              "1.0"
            ]
          },
          "metadata": {},
          "execution_count": 26
        }
      ],
      "source": [
        "float (True)"
      ]
    },
    {
      "cell_type": "code",
      "execution_count": 27,
      "metadata": {
        "id": "yGg2az2cWwPN",
        "colab": {
          "base_uri": "https://localhost:8080/"
        },
        "outputId": "77388738-9783-4521-fab5-0bf58b1b0198"
      },
      "outputs": [
        {
          "output_type": "execute_result",
          "data": {
            "text/plain": [
              "0.0"
            ]
          },
          "metadata": {},
          "execution_count": 27
        }
      ],
      "source": [
        "float(False)"
      ]
    },
    {
      "cell_type": "markdown",
      "metadata": {
        "id": "0-kWsn3OWwPP"
      },
      "source": [
        "You cannot turn a string into an float. It throws an error. However, if the string has only numbers, then you can."
      ]
    },
    {
      "cell_type": "code",
      "execution_count": 28,
      "metadata": {
        "id": "VXcZNILHWwPP",
        "colab": {
          "base_uri": "https://localhost:8080/",
          "height": 141
        },
        "outputId": "3590d8c6-d6e3-4dde-e54d-6e7883f49f3a"
      },
      "outputs": [
        {
          "output_type": "error",
          "ename": "ValueError",
          "evalue": "could not convert string to float: 'abc'",
          "traceback": [
            "\u001b[0;31m---------------------------------------------------------------------------\u001b[0m",
            "\u001b[0;31mValueError\u001b[0m                                Traceback (most recent call last)",
            "\u001b[0;32m<ipython-input-28-45840983de5a>\u001b[0m in \u001b[0;36m<cell line: 0>\u001b[0;34m()\u001b[0m\n\u001b[0;32m----> 1\u001b[0;31m \u001b[0mfloat\u001b[0m\u001b[0;34m(\u001b[0m\u001b[0;34m\"abc\"\u001b[0m\u001b[0;34m)\u001b[0m\u001b[0;34m\u001b[0m\u001b[0;34m\u001b[0m\u001b[0m\n\u001b[0m",
            "\u001b[0;31mValueError\u001b[0m: could not convert string to float: 'abc'"
          ]
        }
      ],
      "source": [
        "float(\"abc\")"
      ]
    },
    {
      "cell_type": "code",
      "execution_count": 29,
      "metadata": {
        "id": "RobCesd6WwPQ",
        "colab": {
          "base_uri": "https://localhost:8080/"
        },
        "outputId": "e5f414d9-04e5-4fd0-b92e-35e6fb23381e"
      },
      "outputs": [
        {
          "output_type": "execute_result",
          "data": {
            "text/plain": [
              "11.0"
            ]
          },
          "metadata": {},
          "execution_count": 29
        }
      ],
      "source": [
        "float(\"11\")"
      ]
    },
    {
      "cell_type": "code",
      "execution_count": 30,
      "metadata": {
        "id": "YAl_VbkJWwPR",
        "colab": {
          "base_uri": "https://localhost:8080/"
        },
        "outputId": "38796541-64ab-492c-d70e-3f6049eca576"
      },
      "outputs": [
        {
          "output_type": "execute_result",
          "data": {
            "text/plain": [
              "0.0224"
            ]
          },
          "metadata": {},
          "execution_count": 30
        }
      ],
      "source": [
        "#You can also use ‘e’ to denote an exponential number\n",
        "\n",
        "float(\"2.24e-2\")           #this number works even without the float() function"
      ]
    },
    {
      "cell_type": "markdown",
      "metadata": {
        "id": "ECm0OUL8WwPS"
      },
      "source": [
        "#### int"
      ]
    },
    {
      "cell_type": "markdown",
      "metadata": {
        "id": "PkU5JhzOWwPT"
      },
      "source": [
        "Conversion from float to int will round-off the value (make it closer to zero)."
      ]
    },
    {
      "cell_type": "code",
      "execution_count": 31,
      "metadata": {
        "id": "D4zY6JVOWwPT",
        "colab": {
          "base_uri": "https://localhost:8080/"
        },
        "outputId": "3b0d8a51-a297-4cb6-d0f8-825dfe785dfd"
      },
      "outputs": [
        {
          "output_type": "execute_result",
          "data": {
            "text/plain": [
              "11"
            ]
          },
          "metadata": {},
          "execution_count": 31
        }
      ],
      "source": [
        "int(11.7)"
      ]
    },
    {
      "cell_type": "code",
      "execution_count": 32,
      "metadata": {
        "id": "8jyuaJh6WwPU",
        "colab": {
          "base_uri": "https://localhost:8080/"
        },
        "outputId": "4fafd3b4-c266-4bd5-a1a9-801551f3c71b"
      },
      "outputs": [
        {
          "output_type": "execute_result",
          "data": {
            "text/plain": [
              "-11"
            ]
          },
          "metadata": {},
          "execution_count": 32
        }
      ],
      "source": [
        "int(-11.7)"
      ]
    },
    {
      "cell_type": "markdown",
      "metadata": {
        "id": "fhMAZgkhWwPV"
      },
      "source": [
        " You can also turn a Boolean into an int."
      ]
    },
    {
      "cell_type": "code",
      "execution_count": 33,
      "metadata": {
        "id": "kMzj0ZoKWwPV",
        "colab": {
          "base_uri": "https://localhost:8080/"
        },
        "outputId": "cf3a5486-71ba-4ef0-8fda-199d7c5110bc"
      },
      "outputs": [
        {
          "output_type": "execute_result",
          "data": {
            "text/plain": [
              "1"
            ]
          },
          "metadata": {},
          "execution_count": 33
        }
      ],
      "source": [
        "int(True)"
      ]
    },
    {
      "cell_type": "code",
      "execution_count": 34,
      "metadata": {
        "id": "kNhtLwoLWwPW",
        "colab": {
          "base_uri": "https://localhost:8080/"
        },
        "outputId": "85538605-a5ac-492a-8060-14a86573d9a7"
      },
      "outputs": [
        {
          "output_type": "execute_result",
          "data": {
            "text/plain": [
              "0"
            ]
          },
          "metadata": {},
          "execution_count": 34
        }
      ],
      "source": [
        "int(False)"
      ]
    },
    {
      "cell_type": "markdown",
      "metadata": {
        "id": "fFIzQUxDWwPb"
      },
      "source": [
        "You cannot turn a string into an int. It throws an error. However, if the string has only numbers, then you can."
      ]
    },
    {
      "cell_type": "code",
      "execution_count": 35,
      "metadata": {
        "id": "a1_NU2oRWwPb",
        "colab": {
          "base_uri": "https://localhost:8080/",
          "height": 141
        },
        "outputId": "82d44f70-588a-4b9a-ffa5-6229780da070"
      },
      "outputs": [
        {
          "output_type": "error",
          "ename": "ValueError",
          "evalue": "invalid literal for int() with base 10: 'GL'",
          "traceback": [
            "\u001b[0;31m---------------------------------------------------------------------------\u001b[0m",
            "\u001b[0;31mValueError\u001b[0m                                Traceback (most recent call last)",
            "\u001b[0;32m<ipython-input-35-d89bdf2bf359>\u001b[0m in \u001b[0;36m<cell line: 0>\u001b[0;34m()\u001b[0m\n\u001b[0;32m----> 1\u001b[0;31m \u001b[0mint\u001b[0m\u001b[0;34m(\u001b[0m\u001b[0;34m\"GL\"\u001b[0m\u001b[0;34m)\u001b[0m\u001b[0;34m\u001b[0m\u001b[0;34m\u001b[0m\u001b[0m\n\u001b[0m",
            "\u001b[0;31mValueError\u001b[0m: invalid literal for int() with base 10: 'GL'"
          ]
        }
      ],
      "source": [
        "int(\"GL\")"
      ]
    },
    {
      "cell_type": "code",
      "execution_count": 36,
      "metadata": {
        "id": "NxvVDVzDWwPd",
        "colab": {
          "base_uri": "https://localhost:8080/"
        },
        "outputId": "f182dd32-fe70-49d7-a689-82ccd55d580e"
      },
      "outputs": [
        {
          "output_type": "execute_result",
          "data": {
            "text/plain": [
              "11"
            ]
          },
          "metadata": {},
          "execution_count": 36
        }
      ],
      "source": [
        "int(\"11\")"
      ]
    },
    {
      "cell_type": "markdown",
      "metadata": {
        "id": "AxKlwSvEWwPe"
      },
      "source": [
        "#### str()\n",
        "<em>str()</em> converts the value into a string."
      ]
    },
    {
      "cell_type": "code",
      "execution_count": 37,
      "metadata": {
        "id": "msQLpozMWwPi",
        "colab": {
          "base_uri": "https://localhost:8080/",
          "height": 35
        },
        "outputId": "d1ef8fe2-25ea-4654-aa53-e02a97a66260"
      },
      "outputs": [
        {
          "output_type": "execute_result",
          "data": {
            "text/plain": [
              "'2.24'"
            ],
            "application/vnd.google.colaboratory.intrinsic+json": {
              "type": "string"
            }
          },
          "metadata": {},
          "execution_count": 37
        }
      ],
      "source": [
        "str(2.24)"
      ]
    },
    {
      "cell_type": "code",
      "execution_count": 38,
      "metadata": {
        "id": "e2YVfksDWwPj",
        "colab": {
          "base_uri": "https://localhost:8080/",
          "height": 35
        },
        "outputId": "c0aeefaa-c8d0-48e8-a52b-ae0117ada74d"
      },
      "outputs": [
        {
          "output_type": "execute_result",
          "data": {
            "text/plain": [
              "'True'"
            ],
            "application/vnd.google.colaboratory.intrinsic+json": {
              "type": "string"
            }
          },
          "metadata": {},
          "execution_count": 38
        }
      ],
      "source": [
        "str(True)"
      ]
    },
    {
      "cell_type": "code",
      "execution_count": 39,
      "metadata": {
        "id": "RgXqM5RxWwPk",
        "colab": {
          "base_uri": "https://localhost:8080/",
          "height": 35
        },
        "outputId": "ccb2d19b-a40c-4d7e-fe22-93debdb0ec69"
      },
      "outputs": [
        {
          "output_type": "execute_result",
          "data": {
            "text/plain": [
              "'False'"
            ],
            "application/vnd.google.colaboratory.intrinsic+json": {
              "type": "string"
            }
          },
          "metadata": {},
          "execution_count": 39
        }
      ],
      "source": [
        "str(False)"
      ]
    },
    {
      "cell_type": "code",
      "execution_count": 40,
      "metadata": {
        "id": "owVkbQJDWwPm",
        "colab": {
          "base_uri": "https://localhost:8080/",
          "height": 35
        },
        "outputId": "a5524b6d-87ac-4078-e677-d54b2991f48b"
      },
      "outputs": [
        {
          "output_type": "execute_result",
          "data": {
            "text/plain": [
              "'10'"
            ],
            "application/vnd.google.colaboratory.intrinsic+json": {
              "type": "string"
            }
          },
          "metadata": {},
          "execution_count": 40
        }
      ],
      "source": [
        "str(10)"
      ]
    },
    {
      "cell_type": "markdown",
      "metadata": {
        "id": "NeztNGtGWwP5"
      },
      "source": [
        "<a id=\"print\"> </a>\n",
        "## Python print()"
      ]
    },
    {
      "cell_type": "markdown",
      "metadata": {
        "id": "qqrDXHxnWwP5"
      },
      "source": [
        "\n",
        "                    Syntax:\n",
        "                         print(*objects, sep=' ', end='\\n', file=sys.stdout, flush=False)\n",
        "                    print() Parameters:\n",
        "                    **objects** - object to be printed. * indicates that there may be more than one object\n",
        "sep - objects are separated by sep. Default value: ' '<br>\n",
        "end - end is printed at last\n",
        "file - must be an object with write(string) method. If omitted it, sys.stdout will be used which prints objects on the screen.\n",
        "flush - If True, the stream is forcibly flushed. Default value: False<br><br>\n",
        "                \n"
      ]
    },
    {
      "cell_type": "code",
      "execution_count": null,
      "metadata": {
        "id": "_V7qmGSkWwP6"
      },
      "outputs": [],
      "source": [
        "print(\"Hello World\")"
      ]
    },
    {
      "cell_type": "code",
      "execution_count": null,
      "metadata": {
        "id": "mNLpxl-4WwP9"
      },
      "outputs": [],
      "source": [
        "#initialize a variable\n",
        "x = 2\n",
        "print(\"x =\", x)              # Here we pass two objects"
      ]
    },
    {
      "cell_type": "markdown",
      "metadata": {
        "id": "6CUwLRcBWwP-"
      },
      "source": [
        "Only object parameter is passed in the above print() function"
      ]
    },
    {
      "cell_type": "markdown",
      "metadata": {
        "id": "XAcxCb-sWwP-"
      },
      "source": [
        "#### print() with separator and end parameters\n",
        "By default, python's print() function ends with a newline. This function comes with a parameter called 'end.' The default value of this parameter is '\\n,' i.e., the new line character. You can end a print statement with any character or string using this parameter.<br>\n",
        "Sometimes you need to print one blank line in your Python program."
      ]
    },
    {
      "cell_type": "code",
      "execution_count": 41,
      "metadata": {
        "id": "4QU2h8bsWwP_",
        "colab": {
          "base_uri": "https://localhost:8080/"
        },
        "outputId": "4d2c9774-6e67-4226-d74d-0754aa3f4785"
      },
      "outputs": [
        {
          "output_type": "stream",
          "name": "stdout",
          "text": [
            "x = 2\n",
            "\n",
            "\n",
            "a = 8j"
          ]
        }
      ],
      "source": [
        "x = 2\n",
        "a = 8\n",
        "print(\"x =\", x, end='\\n\\n\\n')\n",
        "print(\"a =\", 8, end = 'j')"
      ]
    },
    {
      "cell_type": "markdown",
      "metadata": {
        "id": "hoZ-xQxJWwQA"
      },
      "source": [
        "Objects will be separated with what the <em>sep</em> parameter is set to"
      ]
    },
    {
      "cell_type": "code",
      "execution_count": 42,
      "metadata": {
        "id": "qqCg0AU6WwQA",
        "colab": {
          "base_uri": "https://localhost:8080/"
        },
        "outputId": "359d3f08-709d-4175-a04c-47dacb050c74"
      },
      "outputs": [
        {
          "output_type": "stream",
          "name": "stdout",
          "text": [
            "x =$$2\n",
            "a =j8\n"
          ]
        }
      ],
      "source": [
        "x = 2\n",
        "a = 8\n",
        "print(\"x =\", x, sep='$$')\n",
        "print(\"a =\", 8, sep = 'j')"
      ]
    },
    {
      "cell_type": "markdown",
      "metadata": {
        "id": "MnsdtyNjWwQB"
      },
      "source": [
        "<a id=\"uinput\"> </a>\n",
        "## User Input\n",
        "\n",
        "\n"
      ]
    },
    {
      "cell_type": "markdown",
      "metadata": {
        "id": "N4He5BZIWwQE"
      },
      "source": [
        "The Python input() function is used to read data from a standard input such as a keyboard and treats the received data as string. Basically, when we enter digit value, input() in python 3 stores it as string value. So to convert string value to integer value, we will use int() function just as shown below."
      ]
    },
    {
      "cell_type": "code",
      "execution_count": 43,
      "metadata": {
        "id": "WIai9bzpWwQE",
        "colab": {
          "base_uri": "https://localhost:8080/"
        },
        "outputId": "ca0f9f6c-8f4f-4c6e-d604-ccc6006170d3"
      },
      "outputs": [
        {
          "output_type": "stream",
          "name": "stdout",
          "text": [
            "Please enter your age: 35\n",
            "35\n"
          ]
        },
        {
          "output_type": "execute_result",
          "data": {
            "text/plain": [
              "int"
            ]
          },
          "metadata": {},
          "execution_count": 43
        }
      ],
      "source": [
        "age = int(input(\"Please enter your age: \"))\n",
        "print(age)\n",
        "type(age)"
      ]
    },
    {
      "cell_type": "code",
      "execution_count": 44,
      "metadata": {
        "id": "DHy3Eo3KWwQF",
        "colab": {
          "base_uri": "https://localhost:8080/"
        },
        "outputId": "61138db6-ce5e-421c-808c-45d0820e476f"
      },
      "outputs": [
        {
          "output_type": "stream",
          "name": "stdout",
          "text": [
            "Please enter your name: pramod kumar\n",
            "pramod kumar\n"
          ]
        },
        {
          "output_type": "execute_result",
          "data": {
            "text/plain": [
              "str"
            ]
          },
          "metadata": {},
          "execution_count": 44
        }
      ],
      "source": [
        "name = input(\"Please enter your name: \")\n",
        "print(name)\n",
        "type(name)"
      ]
    },
    {
      "cell_type": "markdown",
      "metadata": {
        "id": "Wev9Kx6-WwQH"
      },
      "source": [
        "When <em>input()</em> function executes program flow will be stopped until the user has given an input. The message displayed on the output screen to ask a user to enter input value is optional i.e. the prompt, will be printed on the screen is optional.\n",
        "Whatever you enter as input, input function convert it into a string. if you enter an integer value still input() function convert it into a string. You need to explicitly convert it into an integer in your code using typecasting."
      ]
    },
    {
      "cell_type": "markdown",
      "metadata": {
        "id": "TgPxKm5oWwQH"
      },
      "source": [
        "<a id=\"oper\"> </a>\n",
        "## Python Operators\n",
        "\n"
      ]
    },
    {
      "cell_type": "markdown",
      "metadata": {
        "id": "-Ta6RTyDWwQI"
      },
      "source": [
        "<a id=\"arith\"> </a>\n",
        "### Arithmetic Operator\n",
        "Arithmetic operators are used to perform mathematical operations like addition, subtraction, multiplication etc."
      ]
    },
    {
      "cell_type": "code",
      "source": [
        "x,y=45,\"great\"\n",
        "y"
      ],
      "metadata": {
        "colab": {
          "base_uri": "https://localhost:8080/",
          "height": 35
        },
        "id": "4oAYDYbROlla",
        "outputId": "a4ebcab1-0490-406a-9b47-f17a341acab1"
      },
      "execution_count": 46,
      "outputs": [
        {
          "output_type": "execute_result",
          "data": {
            "text/plain": [
              "'great'"
            ],
            "application/vnd.google.colaboratory.intrinsic+json": {
              "type": "string"
            }
          },
          "metadata": {},
          "execution_count": 46
        }
      ]
    },
    {
      "cell_type": "code",
      "execution_count": 45,
      "metadata": {
        "id": "Q-pEFy-BWwQI",
        "colab": {
          "base_uri": "https://localhost:8080/"
        },
        "outputId": "63601d26-27f8-4eb3-881f-4e10cf7ad221"
      },
      "outputs": [
        {
          "output_type": "stream",
          "name": "stdout",
          "text": [
            "a + b = 14\n",
            "a - b = 10\n",
            "a * b = 24\n",
            "a % b = 0\n",
            "a / b = 6.0\n",
            "a // b = 6\n",
            "a ** b = 144\n"
          ]
        }
      ],
      "source": [
        "a = 12\n",
        "b = 2\n",
        "# '+' Operator\n",
        "print('a + b =',a+b)                  # Prints addition of a and b\n",
        "\n",
        "# '-' Operator\n",
        "print('a - b =',a-b)                  # Prints subtraction of  a and b\n",
        "\n",
        "# '*' Operator\n",
        "print('a * b =',a*b)                  # Prints multiplication of  a and b\n",
        "\n",
        "# '%' Operator\n",
        "print('a % b =',a%b)                  # Prints remainder of division between a and b\n",
        "\n",
        "# '/' Operator\n",
        "print('a / b =',a/b)                  # Prints division of  a and b\n",
        "\n",
        "# '//' Operator\n",
        "print('a // b =',a//b)                # Prints the interger value of the division between a and b\n",
        "\n",
        "# '**' Operator\n",
        "print('a ** b =',a**b)                # Prints the result of a to the power b\n"
      ]
    },
    {
      "cell_type": "markdown",
      "metadata": {
        "id": "5E-kgOQyWwQJ"
      },
      "source": [
        "<a id=\"comp\"> </a>\n",
        "### Comparison Operator\n",
        "Comparison Operator carries out the comparison between operands. They tell us whether an operand is greater than the other, lesser, equal, or a combination of those. It either returns <em>True</em> or <em>False</em> according to the condition."
      ]
    },
    {
      "cell_type": "code",
      "execution_count": 47,
      "metadata": {
        "id": "ei8_yWjXWwQJ",
        "colab": {
          "base_uri": "https://localhost:8080/"
        },
        "outputId": "de181696-3e13-480e-baa5-1a3d09bb423e"
      },
      "outputs": [
        {
          "output_type": "stream",
          "name": "stdout",
          "text": [
            "a > b  is False\n",
            "a < b  is True\n",
            "a == b  is False\n",
            "a != b  is True\n",
            "a >= b  is False\n",
            "a <= b  is True\n"
          ]
        }
      ],
      "source": [
        "a = 10\n",
        "b = 20\n",
        "\n",
        "# '>' Operator\n",
        "print('a > b  is',a>b)                 # Prints False since a is smaller than b\n",
        "\n",
        "# '<' Operator\n",
        "print('a < b  is',a<b)                 # Prints True since a is smaller than b\n",
        "\n",
        "# '==' Operator\n",
        "print('a == b  is',a==b)                 # Prints False since a and b are not equal\n",
        "\n",
        "# '!=' Operator\n",
        "print('a != b  is',a!=b)                 # Prints True since a is not equal to b\n",
        "\n",
        "# '>=' Operator\n",
        "print('a >= b  is',a>=b)                 # Prints False since a is not smaller nor equal to b\n",
        "\n",
        "# '<= y' Operator\n",
        "print('a <= b  is',a<=b)                 # Prints True since a is smaller than b"
      ]
    },
    {
      "cell_type": "code",
      "source": [
        "(14/7 !=7)==False"
      ],
      "metadata": {
        "colab": {
          "base_uri": "https://localhost:8080/"
        },
        "id": "8uNkV0xsyvwc",
        "outputId": "7095caee-b912-42ae-e727-ca9afca2a136"
      },
      "execution_count": 3,
      "outputs": [
        {
          "output_type": "execute_result",
          "data": {
            "text/plain": [
              "False"
            ]
          },
          "metadata": {},
          "execution_count": 3
        }
      ]
    },
    {
      "cell_type": "markdown",
      "metadata": {
        "id": "DHAWZfnRWwQL"
      },
      "source": [
        "<a id=\"assign\"> </a>\n",
        "### Assignment Operator\n",
        "An assignment operator assigns a value to a variable. It may manipulate the value by a factor before assigning it."
      ]
    },
    {
      "cell_type": "code",
      "execution_count": null,
      "metadata": {
        "id": "7WeHVcSIWwQL"
      },
      "outputs": [],
      "source": [
        "# '=' Operator\n",
        "x = 5                                 # Assigns the value to the variable on the left\n",
        "print(\"x = \", x)\n",
        "\n",
        "# '+=' Operator\n",
        "x += 5\n",
        "print(\"Updated value of x after (x += 5) is\", x)     # Adds the values on either side and assigns it to the expression on the left. x+=5 is the same as x=x+5.\n",
        "\n",
        "# '-=' Operator\n",
        "x -=2\n",
        "print(\"Updated value of x after (x -=2) is\", x)     # Subtracts 2 from the latest value of x and assigns it to x(which is 10).\n",
        "\n",
        "# '*=' Operator\n",
        "x *= 2\n",
        "print(\"Updated value of x after (x *= 2) is\", x)     # Multiplies the current value of x with 2 and assigns the result to the same variable\n",
        "\n",
        "# '/=' Operator\n",
        "x /= 4\n",
        "print('Updated value of x after (x /= 4) is', x)     # Divides the current value of x with 4 and assigns the result to the same variable\n"
      ]
    },
    {
      "cell_type": "markdown",
      "metadata": {
        "id": "KhOFmuWmWwQM"
      },
      "source": [
        "<em>i+=1 is the same as i=i+1, whereas i=+1 just means i=(+1)</em>"
      ]
    },
    {
      "cell_type": "markdown",
      "metadata": {
        "id": "OeuiSmbLWwQM"
      },
      "source": [
        "<a id=\"logic\"> </a>\n",
        "### Logical Operators\n",
        "Logical operators are like conjunctions that you can use to combine more than one condition. We have three Python logical operator – **<em>and</em>**, **<em>or</em>**, and **<em>not</em>** that come under python operators."
      ]
    },
    {
      "cell_type": "markdown",
      "metadata": {
        "id": "_8T3z6drWwQM"
      },
      "source": [
        "#### 'and' Operator\n",
        "If the conditions on both the sides of the operator are true, then the expression as a whole is true."
      ]
    },
    {
      "cell_type": "code",
      "execution_count": 48,
      "metadata": {
        "id": "vvanF5POWwQM",
        "colab": {
          "base_uri": "https://localhost:8080/"
        },
        "outputId": "9c366c29-9b00-480b-baf8-905cc019983e"
      },
      "outputs": [
        {
          "output_type": "stream",
          "name": "stdout",
          "text": [
            "True\n"
          ]
        }
      ],
      "source": [
        "x = 11\n",
        "a = x>10 and x<20\n",
        "print(a)"
      ]
    },
    {
      "cell_type": "markdown",
      "metadata": {
        "id": "moUtA-A7WwQN"
      },
      "source": [
        "Here both the conditions are satisfied. Therefore we have True as the output."
      ]
    },
    {
      "cell_type": "code",
      "execution_count": 49,
      "metadata": {
        "id": "vCxHTtWpWwQN",
        "colab": {
          "base_uri": "https://localhost:8080/"
        },
        "outputId": "2d2d9ad6-569f-424a-8f62-a996dc1962ff"
      },
      "outputs": [
        {
          "output_type": "stream",
          "name": "stdout",
          "text": [
            "False\n"
          ]
        }
      ],
      "source": [
        "x = 11\n",
        "a = x>10 and x==12\n",
        "print(a)"
      ]
    },
    {
      "cell_type": "markdown",
      "metadata": {
        "id": "_JFu5BW1WwQO"
      },
      "source": [
        "Here one of the condition is not satisfied. Therefore we have False as the output."
      ]
    },
    {
      "cell_type": "markdown",
      "metadata": {
        "id": "ZJaxiiqkWwQO"
      },
      "source": [
        "#### 'or' Operator\n",
        "The expression is false only if both the statements around the operator are false. Otherwise, it is true."
      ]
    },
    {
      "cell_type": "code",
      "execution_count": 50,
      "metadata": {
        "id": "96UjEwpGWwQO",
        "colab": {
          "base_uri": "https://localhost:8080/"
        },
        "outputId": "dfdac5ac-6fa9-49b6-eb67-214d5471e434"
      },
      "outputs": [
        {
          "output_type": "stream",
          "name": "stdout",
          "text": [
            "True\n"
          ]
        }
      ],
      "source": [
        "x = 11\n",
        "a = x>10 or x==20\n",
        "print(a)"
      ]
    },
    {
      "cell_type": "code",
      "source": [
        "3%2"
      ],
      "metadata": {
        "colab": {
          "base_uri": "https://localhost:8080/"
        },
        "id": "OxC6z8ow-GXq",
        "outputId": "38909e33-62a7-4f0b-8c88-3dcd34ab081c"
      },
      "execution_count": 4,
      "outputs": [
        {
          "output_type": "execute_result",
          "data": {
            "text/plain": [
              "1"
            ]
          },
          "metadata": {},
          "execution_count": 4
        }
      ]
    },
    {
      "cell_type": "markdown",
      "metadata": {
        "id": "8veZvQOoWwQP"
      },
      "source": [
        "Here one of the condition is satisfied. Therefore we have True as the output."
      ]
    },
    {
      "cell_type": "code",
      "execution_count": 51,
      "metadata": {
        "id": "uVnlov7rWwQP",
        "colab": {
          "base_uri": "https://localhost:8080/"
        },
        "outputId": "55c7f483-ab1e-417f-eea2-ed16c58707cf"
      },
      "outputs": [
        {
          "output_type": "stream",
          "name": "stdout",
          "text": [
            "False\n"
          ]
        }
      ],
      "source": [
        "x = 11\n",
        "a = x>12 or x==20\n",
        "print(a)"
      ]
    },
    {
      "cell_type": "markdown",
      "metadata": {
        "id": "WZFPqv9AWwQQ"
      },
      "source": [
        "None of the above condition is True. Therefore we have False as the output"
      ]
    },
    {
      "cell_type": "code",
      "execution_count": null,
      "metadata": {
        "id": "JCv174TQWwQi"
      },
      "outputs": [],
      "source": []
    },
    {
      "cell_type": "markdown",
      "metadata": {
        "collapsed": true,
        "id": "95NkpfyFr6mq",
        "jupyter": {
          "outputs_hidden": true
        }
      },
      "source": [
        "## Table of Content\n",
        "\n",
        "1. **[Introduction to List]**"
      ]
    },
    {
      "cell_type": "markdown",
      "metadata": {
        "id": "7Ki6x4JFr6mt"
      },
      "source": [
        "<a id=\"list\"> </a>\n",
        "## 1. Introduction to List\n"
      ]
    },
    {
      "cell_type": "markdown",
      "metadata": {
        "id": "eit6jEBtr6mu"
      },
      "source": [
        "### Constructing Lists\n",
        "\n",
        "To create a list, use square brackets [ ] and separate items in the list with commas.\n",
        "A list can be empty or contain any number of items with different data types (integers, float, strings, etc.)"
      ]
    },
    {
      "cell_type": "code",
      "execution_count": 52,
      "metadata": {
        "id": "rG7B7b8-r6mv",
        "outputId": "34a0b24d-dbcf-4cac-f434-9a8dd5cd9466",
        "colab": {
          "base_uri": "https://localhost:8080/"
        }
      },
      "outputs": [
        {
          "output_type": "execute_result",
          "data": {
            "text/plain": [
              "[]"
            ]
          },
          "metadata": {},
          "execution_count": 52
        }
      ],
      "source": [
        "# create a empty list\n",
        "empty_list = []\n",
        "empty_list"
      ]
    },
    {
      "cell_type": "markdown",
      "metadata": {
        "id": "7ShZqy0wr6mx"
      },
      "source": [
        "**Note : A list can also hold another list as an item, these are called nested lists**"
      ]
    },
    {
      "cell_type": "code",
      "execution_count": 53,
      "metadata": {
        "id": "a7GdLgTsr6mx",
        "outputId": "d5cdd570-3094-4a3c-c5e5-f4871b24d2d6",
        "colab": {
          "base_uri": "https://localhost:8080/"
        }
      },
      "outputs": [
        {
          "output_type": "execute_result",
          "data": {
            "text/plain": [
              "[['Data Science', 'Machine Learning'], [135, 232, 321]]"
            ]
          },
          "metadata": {},
          "execution_count": 53
        }
      ],
      "source": [
        "# nested list\n",
        "my_list = [['Data Science','Machine Learning'],[135,232,321]]\n",
        "my_list"
      ]
    },
    {
      "cell_type": "markdown",
      "metadata": {
        "id": "Xgsf-t9Jr6my"
      },
      "source": [
        "### Acessing Elements in a List\n",
        "You can access the list items by referring to the index number"
      ]
    },
    {
      "cell_type": "markdown",
      "metadata": {
        "id": "VE8qXBSLr6my"
      },
      "source": [
        "**Indexing:**<br>\n",
        "We use the index operator [ ]. Each item in a list has an assigned index value. Note that the index starts from 0 in python and must be an integer"
      ]
    },
    {
      "cell_type": "markdown",
      "metadata": {
        "id": "6T3-dOV6r6mz"
      },
      "source": [
        "Print the second item of the list"
      ]
    },
    {
      "cell_type": "code",
      "execution_count": 54,
      "metadata": {
        "id": "5tifd6BLr6mz",
        "outputId": "16e755b7-a336-4a4b-b1a9-744a6f378964",
        "colab": {
          "base_uri": "https://localhost:8080/"
        }
      },
      "outputs": [
        {
          "output_type": "stream",
          "name": "stdout",
          "text": [
            "machine learning\n"
          ]
        }
      ],
      "source": [
        "# define a list\n",
        "course = ['data science', 'machine learning', 'python', 'html', 'big data' ]\n",
        "\n",
        "# access the second item of a list at index 1\n",
        "print(course[1])"
      ]
    },
    {
      "cell_type": "markdown",
      "metadata": {
        "id": "m_NcEOgfr6m0"
      },
      "source": [
        "**Negative Indexing**:<br>\n",
        "Negative indexing means beginning from the end, -1 refers to the last item, -2 refers to the second last item"
      ]
    },
    {
      "cell_type": "markdown",
      "metadata": {
        "id": "Rm0oNuOrr6m0"
      },
      "source": [
        "Print the second last item of the list"
      ]
    },
    {
      "cell_type": "code",
      "execution_count": 55,
      "metadata": {
        "id": "frZ2-HJqr6m1",
        "outputId": "cee1aca7-cde0-43b0-d857-78e7f88c3992",
        "colab": {
          "base_uri": "https://localhost:8080/"
        }
      },
      "outputs": [
        {
          "output_type": "stream",
          "name": "stdout",
          "text": [
            "html\n"
          ]
        }
      ],
      "source": [
        "# define a list\n",
        "course = ['data science', 'machine learning', 'python', 'html', 'big data' ]\n",
        "\n",
        "# access the second item of a list at index -2\n",
        "print(course[-2])"
      ]
    },
    {
      "cell_type": "markdown",
      "metadata": {
        "id": "FVbHyjOxr6m1"
      },
      "source": [
        "### Slicing of a List\n",
        "List uses the slicing operator : (colon) to extract part of the sequence"
      ]
    },
    {
      "cell_type": "markdown",
      "metadata": {
        "id": "2pokuglIr6m1"
      },
      "source": [
        "Return first three elements from the list"
      ]
    },
    {
      "cell_type": "code",
      "execution_count": null,
      "metadata": {
        "id": "i124R6gIr6m1",
        "outputId": "ba787645-ed41-4b8b-c0f5-ba56c422906c"
      },
      "outputs": [
        {
          "data": {
            "text/plain": [
              "['data science', 'machine learning', 'python']"
            ]
          },
          "execution_count": 8,
          "metadata": {},
          "output_type": "execute_result"
        }
      ],
      "source": [
        "# define a list\n",
        "course = ['data science', 'machine learning', 'python', 'html', 'big data' ]\n",
        "\n",
        "# print first three element from the list\n",
        "course[:3]"
      ]
    },
    {
      "cell_type": "markdown",
      "metadata": {
        "id": "dTdR4yZQr6m2"
      },
      "source": [
        "Select elements from beginning to end"
      ]
    },
    {
      "cell_type": "code",
      "execution_count": 56,
      "metadata": {
        "id": "3j3LJB5Nr6m2",
        "outputId": "2f01952f-7af8-4fdb-aa00-6918428ad046",
        "colab": {
          "base_uri": "https://localhost:8080/"
        }
      },
      "outputs": [
        {
          "output_type": "execute_result",
          "data": {
            "text/plain": [
              "['data science', 'machine learning', 'python', 'html', 'big data']"
            ]
          },
          "metadata": {},
          "execution_count": 56
        }
      ],
      "source": [
        "# define a list\n",
        "course = ['data science', 'machine learning', 'python', 'html', 'big data' ]\n",
        "\n",
        "# print the all elements\n",
        "course[:]"
      ]
    },
    {
      "cell_type": "markdown",
      "metadata": {
        "id": "C7Nsbjrvr6m2"
      },
      "source": [
        "If all three start , stop, and step are provided, it generates portion of sequence after index start till stop with increment of index step"
      ]
    },
    {
      "cell_type": "code",
      "execution_count": null,
      "metadata": {
        "id": "m7Ys6bYsr6m2",
        "outputId": "21625056-ab20-49b5-aca9-40a1f4fe3950"
      },
      "outputs": [
        {
          "name": "stdout",
          "output_type": "stream",
          "text": [
            "[3, 5, 7]\n"
          ]
        }
      ],
      "source": [
        "a = [1,2,3,4,5,6,7,8,9,10]\n",
        "print(a[2:7:2])"
      ]
    },
    {
      "cell_type": "markdown",
      "metadata": {
        "id": "xuoLU4rYr6m2"
      },
      "source": [
        "### Change Item Value\n",
        "Refer the index number to change the value of a specific item"
      ]
    },
    {
      "cell_type": "code",
      "execution_count": 57,
      "metadata": {
        "id": "QFtc2_oBr6m3",
        "outputId": "a0f68d9b-1910-4a28-bdec-3ee11121a914",
        "colab": {
          "base_uri": "https://localhost:8080/"
        }
      },
      "outputs": [
        {
          "output_type": "execute_result",
          "data": {
            "text/plain": [
              "['data science', 'machine learning', 'python', 'statistics', 'big data']"
            ]
          },
          "metadata": {},
          "execution_count": 57
        }
      ],
      "source": [
        "# define a list\n",
        "course = ['data science', 'machine learning', 'python', 'html', 'big data' ]\n",
        "\n",
        "# change the third item\n",
        "course[3] = 'statistics'\n",
        "\n",
        "course"
      ]
    },
    {
      "cell_type": "markdown",
      "metadata": {
        "id": "cXroEdaWr6m3"
      },
      "source": [
        "### List Methods\n",
        "Python has a set of built-in methods that you can use on lists and arrays"
      ]
    },
    {
      "cell_type": "markdown",
      "metadata": {
        "id": "mN65fhj0r6m3"
      },
      "source": [
        "Python has built-in methods that you can use on list:<br>\n",
        "append()<br>\n",
        "insert()<br>\n",
        "extend()<br>\n",
        "del <br>\n",
        "remove()<br>\n",
        "pop()<br>\n",
        "reverse()<br>"
      ]
    },
    {
      "cell_type": "markdown",
      "metadata": {
        "id": "Mn8VrJW7r6m3"
      },
      "source": [
        "**list.append(item)**<br>\n",
        "The method list.append(item) will add the element at the end of a list"
      ]
    },
    {
      "cell_type": "code",
      "execution_count": null,
      "metadata": {
        "id": "52AI8CsMr6m4",
        "outputId": "f58c9115-f293-4561-f061-5844aaf14502"
      },
      "outputs": [
        {
          "data": {
            "text/plain": [
              "['data science',\n",
              " 'machine learning',\n",
              " 'python',\n",
              " 'html',\n",
              " 'big data',\n",
              " ['statistics']]"
            ]
          },
          "execution_count": 13,
          "metadata": {},
          "output_type": "execute_result"
        }
      ],
      "source": [
        "# define a list\n",
        "course1 = ['data science', 'machine learning', 'python', 'html', 'big data' ]\n",
        "\n",
        "course2 = ['statistics']\n",
        "\n",
        "# add element to the list\n",
        "course1.append(course2)\n",
        "course1"
      ]
    },
    {
      "cell_type": "markdown",
      "metadata": {
        "id": "yKh78gQdr6m4"
      },
      "source": [
        "**list.insert(i, item)**<br>\n",
        "This method will insert an element at the ith index in a list"
      ]
    },
    {
      "cell_type": "code",
      "source": [
        "x = \"Great Learning\"\n",
        "x[0:5]"
      ],
      "metadata": {
        "colab": {
          "base_uri": "https://localhost:8080/",
          "height": 35
        },
        "id": "ZnZ-FTezSXZn",
        "outputId": "80166bef-2930-4b56-f382-219e3e2e9660"
      },
      "execution_count": 58,
      "outputs": [
        {
          "output_type": "execute_result",
          "data": {
            "text/plain": [
              "'Great'"
            ],
            "application/vnd.google.colaboratory.intrinsic+json": {
              "type": "string"
            }
          },
          "metadata": {},
          "execution_count": 58
        }
      ]
    },
    {
      "cell_type": "code",
      "execution_count": null,
      "metadata": {
        "id": "B3fgLwi6r6m5",
        "outputId": "9bfbd0c7-276b-4b05-9c71-df94f6e3f168"
      },
      "outputs": [
        {
          "data": {
            "text/plain": [
              "['data science',\n",
              " 'machine learning',\n",
              " 'statistics',\n",
              " 'python',\n",
              " 'html',\n",
              " 'big data']"
            ]
          },
          "execution_count": 14,
          "metadata": {},
          "output_type": "execute_result"
        }
      ],
      "source": [
        "# define a list\n",
        "course = ['data science', 'machine learning', 'python', 'html', 'big data' ]\n",
        "\n",
        "# insert element at 2nd index in a list\n",
        "course.insert(2, 'statistics')\n",
        "course"
      ]
    },
    {
      "cell_type": "markdown",
      "metadata": {
        "id": "zPUWMc2Mr6m5"
      },
      "source": [
        "**list.extend(items)**<br>\n",
        "The extend method concatenates lists"
      ]
    },
    {
      "cell_type": "code",
      "execution_count": null,
      "metadata": {
        "id": "tui-TbGrr6m5",
        "outputId": "fa33d801-b76c-4685-c1fb-dd57b6a5f0b7"
      },
      "outputs": [
        {
          "data": {
            "text/plain": [
              "['data science',\n",
              " 'machine learning',\n",
              " 'python',\n",
              " 'html',\n",
              " 'big data',\n",
              " 'artificial intelligence']"
            ]
          },
          "execution_count": 15,
          "metadata": {},
          "output_type": "execute_result"
        }
      ],
      "source": [
        "# define a first list\n",
        "course1 = ['data science', 'machine learning', 'python', 'html', 'big data']\n",
        "\n",
        "# define a second list\n",
        "course2 = ['artificial intelligence']\n",
        "\n",
        "# concatenate the list\n",
        "course1.extend(course2)\n",
        "\n",
        "course1"
      ]
    },
    {
      "cell_type": "markdown",
      "metadata": {
        "id": "Hv6lwcLrr6m6"
      },
      "source": [
        "**Deleting List Elements**<br>\n",
        "Use the del keywords to delete an item at specific index"
      ]
    },
    {
      "cell_type": "code",
      "execution_count": null,
      "metadata": {
        "id": "MUnEFGdmr6m6",
        "outputId": "99a5d085-dc82-40fd-ef80-426e7af4ea35"
      },
      "outputs": [
        {
          "data": {
            "text/plain": [
              "['data science', 'machine learning', 'html', 'big data']"
            ]
          },
          "execution_count": 16,
          "metadata": {},
          "output_type": "execute_result"
        }
      ],
      "source": [
        "# define a first list\n",
        "course = ['data science', 'machine learning', 'python', 'html', 'big data' ]\n",
        "\n",
        "# delete the third element from the list\n",
        "del course[2]\n",
        "\n",
        "# print the output\n",
        "course"
      ]
    },
    {
      "cell_type": "markdown",
      "metadata": {
        "id": "cRxZe_tur6m7"
      },
      "source": [
        "**list.remove(item)**<br>\n",
        "It will search and remove only the first occurrence of an item"
      ]
    },
    {
      "cell_type": "code",
      "execution_count": null,
      "metadata": {
        "id": "egqJ15oQr6m7",
        "outputId": "cb731724-9987-498d-c82b-24fbc781d8a1"
      },
      "outputs": [
        {
          "data": {
            "text/plain": [
              "['data science', 'machine learning', 'python', 'big data', 'html']"
            ]
          },
          "execution_count": 18,
          "metadata": {},
          "output_type": "execute_result"
        }
      ],
      "source": [
        "# define a first list\n",
        "course = ['data science', 'machine learning', 'python', 'html', 'big data', 'html' ]\n",
        "\n",
        "course.remove('html')\n",
        "\n",
        "course"
      ]
    },
    {
      "cell_type": "markdown",
      "metadata": {
        "id": "QbMf5pM1r6m8"
      },
      "source": [
        "**list.pop()**<br>\n",
        "Removes and returns the last item of a list"
      ]
    },
    {
      "cell_type": "code",
      "execution_count": null,
      "metadata": {
        "id": "yJtByhJFr6m8",
        "outputId": "7b457a23-2982-42e8-e95e-c46a0b3b651a"
      },
      "outputs": [
        {
          "data": {
            "text/plain": [
              "'html'"
            ]
          },
          "execution_count": 19,
          "metadata": {},
          "output_type": "execute_result"
        }
      ],
      "source": [
        "# define a first list\n",
        "course = ['data science', 'machine learning', 'python', 'html', 'big data', 'html' ]\n",
        "\n",
        "course.pop()"
      ]
    },
    {
      "cell_type": "markdown",
      "metadata": {
        "id": "HZBBc8Z-r6m8"
      },
      "source": [
        "**list.reverse()**<br>\n",
        "The reverse() method reverses the sorting order of the elements"
      ]
    },
    {
      "cell_type": "code",
      "execution_count": null,
      "metadata": {
        "id": "FzGnkB5qr6m8",
        "outputId": "dc7f7c8f-d368-40ea-c17a-e472a5b1b2b1"
      },
      "outputs": [
        {
          "data": {
            "text/plain": [
              "['html', 'big data', 'html', 'python', 'machine learning', 'data science']"
            ]
          },
          "execution_count": 20,
          "metadata": {},
          "output_type": "execute_result"
        }
      ],
      "source": [
        "# define a first list\n",
        "course = ['data science', 'machine learning', 'python', 'html', 'big data', 'html' ]\n",
        "\n",
        "course.reverse()\n",
        "\n",
        "course"
      ]
    },
    {
      "cell_type": "markdown",
      "metadata": {
        "id": "hJa24XY3r6m9"
      },
      "source": [
        "### Common List Operations"
      ]
    },
    {
      "cell_type": "markdown",
      "metadata": {
        "id": "4ZGNxJL4r6m9"
      },
      "source": [
        "**Concatenation(+)**<br>\n",
        "Concatenation uses the + Operator. It combines lists"
      ]
    },
    {
      "cell_type": "code",
      "execution_count": null,
      "metadata": {
        "id": "3asLHngNr6m9",
        "outputId": "6da6299a-be38-461b-d1bc-4a136bcb8218"
      },
      "outputs": [
        {
          "data": {
            "text/plain": [
              "['data science',\n",
              " 'machine learning',\n",
              " 'python',\n",
              " 'html',\n",
              " 'big data',\n",
              " 'artificial intelligence']"
            ]
          },
          "execution_count": 21,
          "metadata": {},
          "output_type": "execute_result"
        }
      ],
      "source": [
        "# define a first list\n",
        "course1 = ['data science', 'machine learning', 'python', 'html', 'big data' ]\n",
        "\n",
        "# define a second list\n",
        "course2 = ['artificial intelligence']\n",
        "\n",
        "# concatenate the list\n",
        "course1 + course2"
      ]
    },
    {
      "cell_type": "markdown",
      "metadata": {
        "id": "UPPAX27Zr6m-"
      },
      "source": [
        "**Repetition(*)**<br>\n",
        "Uses the * Operator. Concatenates a list a repeated number of times"
      ]
    },
    {
      "cell_type": "code",
      "execution_count": null,
      "metadata": {
        "id": "MNRqq9w6r6m-",
        "outputId": "3ad00083-8e51-488c-daa2-d0a076a3196e"
      },
      "outputs": [
        {
          "data": {
            "text/plain": [
              "['data science',\n",
              " 'machine learning',\n",
              " 'python',\n",
              " 'html',\n",
              " 'big data',\n",
              " 'data science',\n",
              " 'machine learning',\n",
              " 'python',\n",
              " 'html',\n",
              " 'big data']"
            ]
          },
          "execution_count": 22,
          "metadata": {},
          "output_type": "execute_result"
        }
      ],
      "source": [
        "# define a first list\n",
        "course1 = ['data science', 'machine learning', 'python', 'html', 'big data' ]\n",
        "\n",
        "course1*2"
      ]
    },
    {
      "cell_type": "markdown",
      "metadata": {
        "id": "urban-armstrong",
        "jp-MarkdownHeadingCollapsed": true
      },
      "source": [
        "<a id=\"loops\"> </a>\n",
        "# 1. Conditional Statements"
      ]
    },
    {
      "cell_type": "markdown",
      "metadata": {
        "id": "hazardous-essex",
        "jp-MarkdownHeadingCollapsed": true
      },
      "source": [
        "<a id=\"if_statement\"> </a>\n",
        "## 1.1 if statement\n"
      ]
    },
    {
      "cell_type": "markdown",
      "metadata": {
        "id": "precious-framework"
      },
      "source": [
        "**syntax:**<br><br>\n",
        "if BOOLEAN EXPRESSION:<br>\n",
        "&nbsp;&nbsp;    STATEMENTS"
      ]
    },
    {
      "cell_type": "markdown",
      "metadata": {
        "id": "labeled-optics"
      },
      "source": [
        "####  Now, we will see some examples on if statements"
      ]
    },
    {
      "cell_type": "code",
      "execution_count": 59,
      "metadata": {
        "id": "illegal-highlight",
        "outputId": "9319bca6-e628-4c08-ba98-ec022cb687d8",
        "colab": {
          "base_uri": "https://localhost:8080/"
        }
      },
      "outputs": [
        {
          "output_type": "stream",
          "name": "stdout",
          "text": [
            "Python Tutorial\n"
          ]
        }
      ],
      "source": [
        "# create a string\n",
        "my_string = 'Python'\n",
        "\n",
        "# create a list\n",
        "my_list = ['Data Science', 'Machine Learning', 'Artificial Intelligence', 'Python']\n",
        "\n",
        "if my_string in my_list:\n",
        "    print(my_string + ' Tutorial')"
      ]
    },
    {
      "cell_type": "code",
      "source": [
        "if my_string in my_list:\n",
        "  print(\"start\")"
      ],
      "metadata": {
        "colab": {
          "base_uri": "https://localhost:8080/"
        },
        "id": "wwxA5Ec5TXWU",
        "outputId": "c64e8ad7-47dc-4375-b9f7-dbdf03af3a93"
      },
      "execution_count": 60,
      "outputs": [
        {
          "output_type": "stream",
          "name": "stdout",
          "text": [
            "start\n"
          ]
        }
      ]
    },
    {
      "cell_type": "markdown",
      "metadata": {
        "id": "blond-particle"
      },
      "source": [
        " Test if an item is a member of a list or not."
      ]
    },
    {
      "cell_type": "code",
      "execution_count": 61,
      "metadata": {
        "id": "passive-horse",
        "outputId": "9e1e491d-4964-4faa-d1c6-bfaf1135e38f",
        "colab": {
          "base_uri": "https://localhost:8080/"
        }
      },
      "outputs": [
        {
          "output_type": "stream",
          "name": "stdout",
          "text": [
            "right\n"
          ]
        }
      ],
      "source": [
        "languages = ['java', 'python' ,'perl', 'ruby', 'c#']\n",
        "if 'python' in languages:\n",
        "    print('right')"
      ]
    },
    {
      "cell_type": "markdown",
      "metadata": {
        "id": "armed-arrow",
        "jp-MarkdownHeadingCollapsed": true
      },
      "source": [
        "<a id=\"if_else\"> </a>\n",
        "## 3.2 if else statement\n"
      ]
    },
    {
      "cell_type": "markdown",
      "metadata": {
        "id": "sweet-binding"
      },
      "source": [
        "**Syntax of if...else**<br><br>\n",
        "if BOOLEAN EXPRESSION:<br>\n",
        "&nbsp;&nbsp;    STATEMENTS_1<br>\n",
        "else:<br>\n",
        "&nbsp;&nbsp;    STATEMENTS_2"
      ]
    },
    {
      "cell_type": "markdown",
      "metadata": {
        "id": "smaller-desktop"
      },
      "source": [
        "#### Let’s see an example of the implementation of the if…else statement."
      ]
    },
    {
      "cell_type": "code",
      "execution_count": null,
      "metadata": {
        "id": "beginning-mentor",
        "outputId": "b3485dcc-f579-4d6b-def9-55ef5ad57653"
      },
      "outputs": [
        {
          "name": "stdout",
          "output_type": "stream",
          "text": [
            "200\n",
            "the value of x different from 500\n"
          ]
        }
      ],
      "source": [
        "# create a integer\n",
        "x = 200\n",
        "print(x)\n",
        "\n",
        "# uses the not operator to reverse the result of the logical expression\n",
        "if not x == 500:\n",
        "    print('the value of x different from 500')\n",
        "else:\n",
        "    print('the value of x is equal to 500')"
      ]
    },
    {
      "cell_type": "code",
      "execution_count": 62,
      "metadata": {
        "id": "active-dealing",
        "outputId": "4fda0ee6-14b1-4d07-b8da-29027261c6be",
        "colab": {
          "base_uri": "https://localhost:8080/"
        }
      },
      "outputs": [
        {
          "output_type": "stream",
          "name": "stdout",
          "text": [
            "enter your userid52\n",
            "enter your password25\n",
            "Please check your userid and password\n"
          ]
        }
      ],
      "source": [
        "string1 = str(input(\"enter your userid\"))\n",
        "string2 = str(input(\"enter your password\"))\n",
        "\n",
        "if (string1 == \"greatlearning\" and string2 == \"simplelearning123\"):\n",
        "    print(\"Succefully logged in!!\")\n",
        "else :\n",
        "    print(\"Please check your userid and password\")"
      ]
    },
    {
      "cell_type": "markdown",
      "metadata": {
        "id": "broken-transaction",
        "jp-MarkdownHeadingCollapsed": true
      },
      "source": [
        "<a id=\"if_elif_else\"> </a>\n",
        "## 1.3 if elif else\n"
      ]
    },
    {
      "cell_type": "markdown",
      "metadata": {
        "id": "artificial-hardwood"
      },
      "source": [
        "**Syntax of if elif else:**<br>\n",
        "if x < y:<br>\n",
        "&nbsp;&nbsp;    STATEMENTS_A<br>\n",
        "elif x > y:<br>\n",
        "&nbsp;&nbsp    STATEMENTS_B<br>\n",
        "else:<br>\n",
        "&nbsp;&nbsp;    STATEMENTS_C"
      ]
    },
    {
      "cell_type": "markdown",
      "metadata": {
        "id": "female-absolute"
      },
      "source": [
        "#### Q. Check whether the given number is greater than 50 or not"
      ]
    },
    {
      "cell_type": "code",
      "execution_count": 63,
      "metadata": {
        "id": "figured-dynamics",
        "outputId": "35708963-728a-4b6a-ba00-a3271a099651",
        "colab": {
          "base_uri": "https://localhost:8080/"
        }
      },
      "outputs": [
        {
          "output_type": "stream",
          "name": "stdout",
          "text": [
            "Number is greater than 50\n"
          ]
        }
      ],
      "source": [
        "num = 100\n",
        "if (num == 0):\n",
        "    print(\"Number is Zero\")\n",
        "elif (num > 5):\n",
        "    print(\"Number is greater than 50\")\n",
        "else:\n",
        "    print(\"Number is smaller than 50\")\n"
      ]
    },
    {
      "cell_type": "markdown",
      "metadata": {
        "id": "ruled-davis",
        "jp-MarkdownHeadingCollapsed": true
      },
      "source": [
        "<a id=\"nested_if\"> </a>\n",
        "## 1.4 nested if and if else statement\n"
      ]
    },
    {
      "cell_type": "code",
      "source": [
        "print(\"Xy\")"
      ],
      "metadata": {
        "colab": {
          "base_uri": "https://localhost:8080/"
        },
        "id": "3VAfKgmjVbJq",
        "outputId": "14f019a9-f93b-4de8-b706-82fd749d302a"
      },
      "execution_count": 71,
      "outputs": [
        {
          "output_type": "stream",
          "name": "stdout",
          "text": [
            "\n",
            "X\n",
            "y\n"
          ]
        }
      ]
    },
    {
      "cell_type": "code",
      "execution_count": 64,
      "metadata": {
        "id": "wrong-polls",
        "outputId": "af232f35-a8f9-4b2b-c802-e8641f38abd8",
        "colab": {
          "base_uri": "https://localhost:8080/"
        }
      },
      "outputs": [
        {
          "output_type": "stream",
          "name": "stdout",
          "text": [
            "Enter a number: 23\n",
            "Positive number\n"
          ]
        }
      ],
      "source": [
        "num = float(input(\"Enter a number: \"))\n",
        "if num >= 0:\n",
        "    if num == 0:\n",
        "        print(\"Zero\")\n",
        "    else:\n",
        "        print(\"Positive number\")\n",
        "else:\n",
        "    print(\"Negative number\")"
      ]
    }
  ],
  "metadata": {
    "colab": {
      "collapsed_sections": [
        "ftCxC4m1WwN4",
        "loqrEgAPWwN6",
        "PKGTWcsRWwN-",
        "XcpVNMYeF9Qp",
        "-itifEJ3WwOD",
        "ilx9djl-WwOE",
        "EVRWwplyWwPK",
        "NeztNGtGWwP5",
        "MnsdtyNjWwQB",
        "TgPxKm5oWwQH",
        "7Ki6x4JFr6mt",
        "eit6jEBtr6mu",
        "Xgsf-t9Jr6my",
        "FVbHyjOxr6m1",
        "xuoLU4rYr6m2",
        "cXroEdaWr6m3",
        "hJa24XY3r6m9",
        "urban-armstrong",
        "hazardous-essex",
        "labeled-optics",
        "armed-arrow",
        "smaller-desktop",
        "broken-transaction",
        "female-absolute",
        "ruled-davis",
        "unavailable-encyclopedia",
        "statutory-catalog",
        "random-rescue",
        "handmade-salvation",
        "touched-wisconsin"
      ],
      "provenance": [],
      "include_colab_link": true
    },
    "kernelspec": {
      "display_name": "Python 3",
      "language": "python",
      "name": "python3"
    },
    "language_info": {
      "codemirror_mode": {
        "name": "ipython",
        "version": 3
      },
      "file_extension": ".py",
      "mimetype": "text/x-python",
      "name": "python",
      "nbconvert_exporter": "python",
      "pygments_lexer": "ipython3",
      "version": "3.8.8"
    }
  },
  "nbformat": 4,
  "nbformat_minor": 0
}